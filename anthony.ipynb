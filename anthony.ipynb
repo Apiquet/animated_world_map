{
 "cells": [
  {
   "cell_type": "markdown",
   "metadata": {},
   "source": [
    "### Animated map which displays the protests locations in sequence\n",
    "With:\n",
    "- ##### <u> SQLDATE </u>\n",
    "- ##### <u> ActionGeo_Lat </u>\n",
    "- ##### <u> ActionGeo_Long </u>"
   ]
  },
  {
   "cell_type": "code",
   "execution_count": 1,
   "metadata": {},
   "outputs": [],
   "source": [
    "from google.cloud import bigquery\n",
    "import pandas as pd\n",
    "import numpy as np\n",
    "import os\n",
    "from IPython.core.display import display, HTML\n",
    "\n",
    "DATA_PATH = \"data/\"\n",
    "LEAFLET_PATH = 'animated_maps/'\n",
    "WORLD_MAP_PATH = LEAFLET_PATH + 'world_map/'\n",
    "COUNTRY_MAP_PATH = LEAFLET_PATH + 'individual_country_map/'\n",
    "\n",
    "os.environ[\"GOOGLE_APPLICATION_CREDENTIALS\"] = 'C:\\\\Users\\\\antho\\\\Downloads\\\\adafinalproject-b2214ea058a4.json'\n",
    "bigquery_client = bigquery.Client()"
   ]
  },
  {
   "cell_type": "code",
   "execution_count": 2,
   "metadata": {},
   "outputs": [
    {
     "data": {
      "text/plain": [
       "SQLDATE               1769903\n",
       "ActionGeo_Lat         1769903\n",
       "ActionGeo_Long        1769903\n",
       "EventCode             1769903\n",
       "ActionGeo_FullName    1769903\n",
       "dtype: int64"
      ]
     },
     "execution_count": 2,
     "metadata": {},
     "output_type": "execute_result"
    }
   ],
   "source": [
    "#Fetching data from GDELT\n",
    "## BIG DATA, 3 000 000 rows\n",
    "\n",
    "if os.path.isfile(DATA_PATH + 'protests_location.csv') :\n",
    "    #If we already saved the data, don't run the query again, just get the data from the file saved previously\n",
    "    protests_df_location = pd.read_csv(DATA_PATH + 'protests_location.csv')\n",
    "else:\n",
    "    #query to get the date and the location of the protest events\n",
    "    #Remark: '14%' filters the protest events because they all start by '14'\n",
    "    query_protests_location = bigquery_client.query(\n",
    "        \"\"\"SELECT SQLDATE, ActionGeo_Lat, ActionGeo_Long, EventCode, ActionGeo_FullName  FROM `gdelt-bq.gdeltv2.events` \n",
    "        WHERE EventCode LIKE '14%' \"\"\")\n",
    "    protests_df_location = query_protests_location.result().to_dataframe()\n",
    "    # Write down a csv file\n",
    "    protests_df_location.to_csv(DATA_PATH + 'protests_location.csv', index=False)\n",
    "protests_df_location = protests_df_location.dropna()\n",
    "protests_df_location.count()"
   ]
  },
  {
   "cell_type": "code",
   "execution_count": null,
   "metadata": {},
   "outputs": [],
   "source": []
  },
  {
   "cell_type": "markdown",
   "metadata": {},
   "source": [
    "## Animated world map"
   ]
  },
  {
   "cell_type": "code",
   "execution_count": 3,
   "metadata": {},
   "outputs": [],
   "source": [
    "#Extracting ActionGeo_Lat and ActionGeo_Long\n",
    "protests_without_duplicated_values = protests_df_location\n",
    "#protests_without_duplicated_values['ActionGeo_Lat'] = protests_df_location['ActionGeo_Lat']\n",
    "#protests_without_duplicated_values['ActionGeo_Long'] = protests_df_location['ActionGeo_Long']\n",
    "\n",
    "#Removing duplicated values \n",
    "#The values are not really duplicated, they took place on different day\n",
    "#Plus, the localization of national protest is in the center of the country \n",
    "#We thus have a duplicated localizations when we have several national protests in the same country\n",
    "protests_without_duplicated_values=protests_without_duplicated_values.drop_duplicates(subset=['ActionGeo_Long', 'ActionGeo_Lat'], keep=False)\n",
    "protests_without_duplicated_values=protests_without_duplicated_values.sort_values('SQLDATE')\n",
    "protests_without_duplicated_values=protests_without_duplicated_values[protests_without_duplicated_values['SQLDATE']>=20140000]"
   ]
  },
  {
   "cell_type": "code",
   "execution_count": 4,
   "metadata": {},
   "outputs": [
    {
     "data": {
      "text/plain": [
       "array(['141', '140', '143'], dtype=object)"
      ]
     },
     "execution_count": 4,
     "metadata": {},
     "output_type": "execute_result"
    }
   ],
   "source": [
    "protests_without_duplicated_values['EventCode']= protests_without_duplicated_values['EventCode'].astype(str)\n",
    "protests_without_duplicated_values['EventCode']= protests_without_duplicated_values['EventCode'].str[0:3]\n",
    "protests_without_duplicated_values['EventCode'].unique()"
   ]
  },
  {
   "cell_type": "code",
   "execution_count": 5,
   "metadata": {},
   "outputs": [],
   "source": [
    "protests_df_for_js = pd.DataFrame()\n",
    "protests_df_for_js[\"coord_for_js\"] = '[' + protests_without_duplicated_values['ActionGeo_Lat'].astype(str) + ',' + protests_without_duplicated_values['ActionGeo_Long'].astype(str) + '],'\n",
    "protests_df_for_js[\"dates\"] = protests_without_duplicated_values['SQLDATE'].astype(str)\n",
    "protests_df_for_js[\"dates\"] = '[' + protests_df_for_js['dates'].str[0:4] + protests_df_for_js['dates'].str[4:6] + protests_df_for_js['dates'].str[6:8] + '],'\n",
    "protests_df_for_js[\"event_code\"] = protests_without_duplicated_values['EventCode'].astype(str)\n",
    "protests_df_for_js[\"event_code\"] = '[' + protests_df_for_js['event_code'] + '],'\n"
   ]
  },
  {
   "cell_type": "code",
   "execution_count": 22,
   "metadata": {},
   "outputs": [],
   "source": [
    "def updating_js_script(df, SCRIPT_PATH, markers_number=4, markers_speed=1, LatLong=\"[35.435804, 6.634183]\", zoom=\"2\"):\n",
    "    \n",
    "    simulation_duration = len(df.index)/markers_number/(markers_speed/100)\n",
    "    protests_coordinates=\"\" \n",
    "    protests_counts=\"\"\n",
    "    protests_types=\"\"\n",
    "    protests_dates=\"\"\n",
    "    marker_declaration=\"\"\n",
    "    string_addstation=\"\"\n",
    "\n",
    "    for marker_idx in range(1,markers_number+1):\n",
    "        protests_coordinates = protests_coordinates + \"\\n var protests_coordinates\" + str(marker_idx) + \" = [\"\n",
    "        protests_dates = protests_dates + \"\\n var protests_dates\" + str(marker_idx) + \" = [\"\n",
    "        protests_counts = protests_counts + \"\\n var protests_counts\" + str(marker_idx) + \" = [\"\n",
    "        protests_types = protests_types + \"\\n var protests_types\" + str(marker_idx) + \" = [\"\n",
    "        addstation_idx = 0\n",
    "        i = 0\n",
    "        for idx in range(marker_idx,len(df),markers_number):\n",
    "            i=i+1\n",
    "            protests_coordinates = protests_coordinates + df[\"coord_for_js\"].iloc[idx]\n",
    "            protests_dates = protests_dates + df[\"dates\"].iloc[idx]\n",
    "            protests_types = protests_types + df[\"event_code\"].iloc[idx]  \n",
    "            if 'count' in df:\n",
    "                protests_counts = protests_counts + df[\"count\"].iloc[idx]\n",
    "\n",
    "            if addstation_idx == 0 :\n",
    "                    addstation_idx = 1\n",
    "                    string_addstation = string_addstation + \"\\n\"\n",
    "            string_addstation = string_addstation + \"marker\" + str(marker_idx) + \".addStation(\" + str(i) + \", 500);\"\n",
    "\n",
    "        #protests_df_for_js=protests_df_for_js.iloc[number_of_protests_per_loop:]\n",
    "        protests_coordinates = protests_coordinates[:-1]\n",
    "        protests_coordinates = protests_coordinates + \"]\"\n",
    "        protests_dates = protests_dates[:-1]\n",
    "        protests_dates = protests_dates + \"]\"  \n",
    "        protests_types = protests_types[:-1]\n",
    "        protests_types = protests_types + \"]\"\n",
    "        protests_counts = protests_counts[:-1]\n",
    "        protests_counts = protests_counts + \"]\"         \n",
    "        if 'count' in df:\n",
    "            marker_declaration = marker_declaration + \"\\n var marker\" + str(marker_idx) + \" = L.Marker.movingMarker(protests_coordinates\" + str(marker_idx) + \",protests_dates1,protests_types\" + str(marker_idx) +\",protests_counts\"+ str(marker_idx) +\",\" + str(simulation_duration) + \", {autostart: true}).addTo(map);\"\n",
    "        else:\n",
    "            marker_declaration = marker_declaration + \"\\n var marker\" + str(marker_idx) + \" = L.Marker.movingMarker(protests_coordinates\" + str(marker_idx) + \",protests_dates1,protests_types\" + str(marker_idx) +\",\" + str(simulation_duration) + \", {autostart: true}).addTo(map);\"\n",
    "\n",
    "    mapfit = 'var map = new L.Map(\\'map\\', {center:'+LatLong+',zoom:'+zoom+'});map.addLayer(layer);'\n",
    "    readFile = open(SCRIPT_PATH + \"script_origin.js\")\n",
    "\n",
    "    lines = readFile.readlines()\n",
    "    lines = lines[:-1]\n",
    "    readFile.close()\n",
    "    \n",
    "    lines.append(mapfit+'\\n')\n",
    "    lines.append(protests_coordinates+'\\n')\n",
    "    if 'count' in df:\n",
    "        lines.append(protests_counts+'\\n')\n",
    "    lines.append(protests_dates+'\\n')\n",
    "    lines.append(protests_types+'\\n')\n",
    "    lines.append(marker_declaration+'\\n')\n",
    "    lines.append(string_addstation+'\\n')\n",
    "    w = open(SCRIPT_PATH + \"script.js\",'w')\n",
    "\n",
    "    w.writelines([item for item in lines])\n",
    "\n",
    "    w.close()"
   ]
  },
  {
   "cell_type": "code",
   "execution_count": 23,
   "metadata": {},
   "outputs": [],
   "source": [
    "updating_js_script(protests_df_for_js, WORLD_MAP_PATH)"
   ]
  },
  {
   "cell_type": "code",
   "execution_count": 24,
   "metadata": {},
   "outputs": [
    {
     "data": {
      "text/html": [
       "<h1><a href='animated_maps/world_map/index.html' target='_blank'>Animated map that displays protests day by day (Ctrl+Click)</a></h1>"
      ],
      "text/plain": [
       "<IPython.core.display.HTML object>"
      ]
     },
     "metadata": {},
     "output_type": "display_data"
    }
   ],
   "source": [
    "display(HTML(\"<h1><a href='\"+WORLD_MAP_PATH+\"index.html' target='_blank'>Animated map that displays protests day by day (Ctrl+Click)</a></h1>\"))"
   ]
  },
  {
   "cell_type": "markdown",
   "metadata": {},
   "source": [
    "## Animated map per country"
   ]
  },
  {
   "cell_type": "code",
   "execution_count": 9,
   "metadata": {},
   "outputs": [],
   "source": [
    "#protests_df_location.ActionGeo_CountryCode.unique()"
   ]
  },
  {
   "cell_type": "code",
   "execution_count": 10,
   "metadata": {},
   "outputs": [],
   "source": [
    "country_location = pd.read_csv(DATA_PATH + 'country_lat_long.csv')\n",
    "for cln in country_location:\n",
    "    country_location[cln] = country_location[cln].astype(str)\n",
    "country_location['LatLong'] = '['+country_location['Latitude']+','+country_location['Longitude']+']'"
   ]
  },
  {
   "cell_type": "code",
   "execution_count": 11,
   "metadata": {},
   "outputs": [],
   "source": [
    "country_wanted = \"United States\"\n",
    "s = pd.Series(country_location['CountryName'])\n",
    "if country_wanted in s.unique():\n",
    "    latlong = country_location[country_location['CountryName'].str.contains(country_wanted)]['LatLong']\n",
    "    latlong = latlong.iloc[0]\n",
    "else: \n",
    "    print(\"Country wanted doesn't exist\")\n",
    "date_start = 20160101\n",
    "date_end = 20160303"
   ]
  },
  {
   "cell_type": "code",
   "execution_count": 12,
   "metadata": {},
   "outputs": [],
   "source": [
    "protests_wanted = protests_df_location[protests_df_location['ActionGeo_FullName'].str.contains(country_wanted)]\n",
    "protests_wanted = protests_wanted[protests_wanted.SQLDATE > date_start]\n",
    "protests_wanted = protests_wanted[protests_wanted.SQLDATE < date_end]\n",
    "protests_wanted=protests_wanted.sort_values('SQLDATE')"
   ]
  },
  {
   "cell_type": "code",
   "execution_count": 13,
   "metadata": {},
   "outputs": [
    {
     "data": {
      "text/plain": [
       "SQLDATE               19560\n",
       "ActionGeo_Lat         19560\n",
       "ActionGeo_Long        19560\n",
       "EventCode             19560\n",
       "ActionGeo_FullName    19560\n",
       "dtype: int64"
      ]
     },
     "execution_count": 13,
     "metadata": {},
     "output_type": "execute_result"
    }
   ],
   "source": [
    "protests_wanted.count()"
   ]
  },
  {
   "cell_type": "code",
   "execution_count": 14,
   "metadata": {},
   "outputs": [],
   "source": [
    "for col in protests_wanted:\n",
    "    protests_wanted[col] = protests_wanted[col].astype(str)"
   ]
  },
  {
   "cell_type": "code",
   "execution_count": 15,
   "metadata": {},
   "outputs": [],
   "source": [
    "protests_wanted_for_js = pd.DataFrame()\n",
    "protests_wanted_for_js[\"coord_for_js\"] = '[' + protests_wanted['ActionGeo_Lat'] + ',' + protests_wanted['ActionGeo_Long'] + '],'\n",
    "protests_wanted_for_js[\"dates\"] = protests_wanted['SQLDATE']\n",
    "protests_wanted_for_js[\"dates\"] = '[' + protests_wanted_for_js['dates'].str[0:4] + protests_wanted_for_js['dates'].str[4:6] + protests_wanted_for_js['dates'].str[6:8] + '],'\n",
    "protests_wanted_for_js[\"event_code\"] = protests_wanted['EventCode']\n",
    "protests_wanted_for_js[\"event_code\"] = '[' + protests_wanted_for_js['event_code'] + '],'"
   ]
  },
  {
   "cell_type": "code",
   "execution_count": 16,
   "metadata": {},
   "outputs": [],
   "source": [
    "protests_wanted_for_js['count'] = 0"
   ]
  },
  {
   "cell_type": "code",
   "execution_count": 17,
   "metadata": {},
   "outputs": [],
   "source": [
    "List = []\n",
    "count = []\n",
    "index = 0\n",
    "for value in protests_wanted_for_js['coord_for_js']:\n",
    "    if value in List:\n",
    "        idx = List.index(value)\n",
    "        count[idx] = count[idx] + 1\n",
    "        protests_wanted_for_js.iloc[index, protests_wanted_for_js.columns.get_loc('count')] = count[idx]\n",
    "    else:        \n",
    "        List.append(value)\n",
    "        count.append(1)        \n",
    "        protests_wanted_for_js.iloc[index, protests_wanted_for_js.columns.get_loc('count')] = 1\n",
    "    index = index + 1"
   ]
  },
  {
   "cell_type": "code",
   "execution_count": 18,
   "metadata": {},
   "outputs": [],
   "source": [
    "protests_wanted_for_js['count'] = protests_wanted_for_js['count'].astype(str)\n",
    "protests_wanted_for_js[\"count\"] = '[' + protests_wanted_for_js['count'] + '],'"
   ]
  },
  {
   "cell_type": "code",
   "execution_count": 25,
   "metadata": {},
   "outputs": [],
   "source": [
    "updating_js_script(protests_wanted_for_js, COUNTRY_MAP_PATH, markers_number=7, markers_speed=10, zoom=\"5\", LatLong=latlong)"
   ]
  },
  {
   "cell_type": "code",
   "execution_count": 26,
   "metadata": {},
   "outputs": [
    {
     "data": {
      "text/html": [
       "<h1><a href='animated_maps/individual_country_map/index.html' target='_blank'>Animated map which displays protests day by day in United States (Ctrl+Click)</a></h1>"
      ],
      "text/plain": [
       "<IPython.core.display.HTML object>"
      ]
     },
     "metadata": {},
     "output_type": "display_data"
    }
   ],
   "source": [
    "display(HTML(\"<h1><a href='\"+COUNTRY_MAP_PATH+\"index.html' target='_blank'>Animated map which displays protests day by day in \"+ country_wanted + \" (Ctrl+Click)</a></h1>\"))"
   ]
  },
  {
   "cell_type": "code",
   "execution_count": null,
   "metadata": {},
   "outputs": [],
   "source": []
  },
  {
   "cell_type": "code",
   "execution_count": null,
   "metadata": {},
   "outputs": [],
   "source": []
  }
 ],
 "metadata": {
  "kernelspec": {
   "display_name": "Python 3",
   "language": "python",
   "name": "python3"
  },
  "language_info": {
   "codemirror_mode": {
    "name": "ipython",
    "version": 3
   },
   "file_extension": ".py",
   "mimetype": "text/x-python",
   "name": "python",
   "nbconvert_exporter": "python",
   "pygments_lexer": "ipython3",
   "version": "3.6.5"
  }
 },
 "nbformat": 4,
 "nbformat_minor": 2
}
