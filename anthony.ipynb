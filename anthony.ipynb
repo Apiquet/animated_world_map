{
 "cells": [
  {
   "cell_type": "markdown",
   "metadata": {},
   "source": [
    "### Animated map which displays the protests locations in sequence\n",
    "With:\n",
    "- ##### <u> SQLDATE </u>\n",
    "- ##### <u> ActionGeo_Lat </u>\n",
    "- ##### <u> ActionGeo_Long </u>"
   ]
  }
 ],
 "metadata": {
  "kernelspec": {
   "display_name": "Python 3",
   "language": "python",
   "name": "python3"
  },
  "language_info": {
   "codemirror_mode": {
    "name": "ipython",
    "version": 3
   },
   "file_extension": ".py",
   "mimetype": "text/x-python",
   "name": "python",
   "nbconvert_exporter": "python",
   "pygments_lexer": "ipython3",
   "version": "3.6.5"
  }
 },
 "nbformat": 4,
 "nbformat_minor": 2
}
