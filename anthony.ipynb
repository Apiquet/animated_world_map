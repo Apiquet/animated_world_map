{
 "cells": [
  {
   "cell_type": "markdown",
   "metadata": {},
   "source": [
    "### Animated map which displays the protests locations in sequence\n",
    "With:\n",
    "- ##### <u> SQLDATE </u>\n",
    "- ##### <u> ActionGeo_Lat </u>\n",
    "- ##### <u> ActionGeo_Long </u>"
   ]
  },
  {
   "cell_type": "code",
   "execution_count": 48,
   "metadata": {},
   "outputs": [],
   "source": [
    "from google.cloud import bigquery\n",
    "import pandas as pd\n",
    "import numpy as np\n",
    "import os\n",
    "from IPython.core.display import display, HTML\n",
    "\n",
    "DATA_PATH = \"data/\"\n",
    "LEAFLET_PATH = 'Leaflet.MovingMarker-master\\\\animated_map\\\\'\n",
    "\n",
    "os.environ[\"GOOGLE_APPLICATION_CREDENTIALS\"] = 'C:\\\\Users\\\\antho\\\\Downloads\\\\ADAproj-02b470a29ee4.json'\n",
    "bigquery_client = bigquery.Client()"
   ]
  },
  {
   "cell_type": "code",
   "execution_count": 49,
   "metadata": {},
   "outputs": [
    {
     "data": {
      "text/plain": [
       "SQLDATE           3756896\n",
       "ActionGeo_Lat     3756896\n",
       "ActionGeo_Long    3756896\n",
       "dtype: int64"
      ]
     },
     "execution_count": 49,
     "metadata": {},
     "output_type": "execute_result"
    }
   ],
   "source": [
    "#Fetching data from GDELT\n",
    "## BIG DATA, 3 000 000 rows\n",
    "\n",
    "if os.path.isfile(DATA_PATH + 'protests_location.csv') :\n",
    "    #If we already saved the data, don't run the query again, just get the data from the file saved previously\n",
    "    protests_df_location = pd.read_csv(DATA_PATH + 'protests_location.csv')\n",
    "else:\n",
    "    #query to get the date and the location of the protest events\n",
    "    #Remark: '14%' filters the protest events because they all start by '14'\n",
    "    query_protests_location = bigquery_client.query(\n",
    "        \"\"\"SELECT SQLDATE, ActionGeo_Lat, ActionGeo_Long FROM `gdelt-bq.gdeltv2.events` \n",
    "        WHERE EventCode LIKE '14%' \"\"\")\n",
    "    protests_df_location = query_protests_location.result().to_dataframe()\n",
    "    # Write down a csv file\n",
    "    protests_df_location.to_csv(DATA_PATH + 'protests_location.csv', index=False)\n",
    "protests_df_location = protests_df_location.dropna()\n",
    "protests_df_location.count()"
   ]
  },
  {
   "cell_type": "code",
   "execution_count": 50,
   "metadata": {},
   "outputs": [],
   "source": [
    "#Extracting ActionGeo_Lat and ActionGeo_Long\n",
    "protests_without_duplicated_values = pd.DataFrame()\n",
    "protests_without_duplicated_values['ActionGeo_Lat'] = protests_df_location['ActionGeo_Lat']\n",
    "protests_without_duplicated_values['ActionGeo_Long'] = protests_df_location['ActionGeo_Long']\n",
    "\n",
    "#Removing duplicated values \n",
    "#The values are not really duplicated, they took place on different day\n",
    "#Plus, the localization of national protest is in the center of the country \n",
    "#We thus have a duplicated localizations when we have several national protests in the same country\n",
    "protests_without_duplicated_values=protests_without_duplicated_values.drop_duplicates(subset=['ActionGeo_Long', 'ActionGeo_Lat'], keep=False)"
   ]
  },
  {
   "cell_type": "code",
   "execution_count": 51,
   "metadata": {},
   "outputs": [],
   "source": [
    "protests_without_duplicated_values[\"coord_for_js\"] = '[' + protests_without_duplicated_values['ActionGeo_Lat'].astype(str) + ',' + protests_without_duplicated_values['ActionGeo_Long'].astype(str) + '],'\n",
    "protests_coordinates1 = \"\"\n",
    "protests_coordinates2 = \"\"\n",
    "idx = 0\n",
    "for value in protests_without_duplicated_values[\"coord_for_js\"]:\n",
    "    idx = idx + 1\n",
    "    if idx < len(protests_without_duplicated_values[\"coord_for_js\"])/2:\n",
    "        protests_coordinates1 = protests_coordinates1 + value\n",
    "    else:\n",
    "        protests_coordinates2 = protests_coordinates2 + value\n",
    "\n",
    "string_addstation1=\"\"\n",
    "string_addstation2=\"\"\n",
    "j = 0;\n",
    "for i in range(1, len(protests_without_duplicated_values[\"coord_for_js\"])-1):\n",
    "    if i < len(protests_without_duplicated_values[\"coord_for_js\"])/2:\n",
    "        string_addstation1 = string_addstation1 + \"marker1.addStation(\" + str(i) + \", 500);\"\n",
    "    else:\n",
    "        string_addstation2 = string_addstation2 + \"marker2.addStation(\" + str(j) + \", 500);\"\n",
    "        j=j+1\n"
   ]
  },
  {
   "cell_type": "code",
   "execution_count": 52,
   "metadata": {},
   "outputs": [],
   "source": [
    "readFile = open(LEAFLET_PATH + \"script.js\")\n",
    "\n",
    "lines = readFile.readlines()\n",
    "lines = lines[:-1]\n",
    "readFile.close()\n",
    "\n",
    "lines[20] = protests_coordinates1[:-1]\n",
    "lines.insert(21, '\\n')\n",
    "lines[26] = protests_coordinates2[:-1]\n",
    "lines.insert(27, '\\n')\n",
    "lines[40] = string_addstation1\n",
    "lines.insert(41, '\\n')\n",
    "lines.append(string_addstation2)"
   ]
  },
  {
   "cell_type": "code",
   "execution_count": 53,
   "metadata": {},
   "outputs": [],
   "source": [
    "w = open(LEAFLET_PATH + \"script.js\",'w')\n",
    "\n",
    "w.writelines([item for item in lines])\n",
    "\n",
    "w.close()"
   ]
  },
  {
   "cell_type": "code",
   "execution_count": 54,
   "metadata": {},
   "outputs": [
    {
     "data": {
      "text/html": [
       "<h1><a href='Leaflet.MovingMarker-master\\animated_map\\index.html' target='_blank'>Animated map that displays protests location in sequence (Ctrl+Click)</a></h1>"
      ],
      "text/plain": [
       "<IPython.core.display.HTML object>"
      ]
     },
     "metadata": {},
     "output_type": "display_data"
    }
   ],
   "source": [
    "display(HTML(\"<h1><a href='\"+LEAFLET_PATH+\"index.html' target='_blank'>Animated map that displays protests location in sequence (Ctrl+Click)</a></h1>\"))"
   ]
  },
  {
   "cell_type": "code",
   "execution_count": null,
   "metadata": {},
   "outputs": [],
   "source": []
  }
 ],
 "metadata": {
  "kernelspec": {
   "display_name": "Python 3",
   "language": "python",
   "name": "python3"
  },
  "language_info": {
   "codemirror_mode": {
    "name": "ipython",
    "version": 3
   },
   "file_extension": ".py",
   "mimetype": "text/x-python",
   "name": "python",
   "nbconvert_exporter": "python",
   "pygments_lexer": "ipython3",
   "version": "3.6.5"
  }
 },
 "nbformat": 4,
 "nbformat_minor": 2
}
