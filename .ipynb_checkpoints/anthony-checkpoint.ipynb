{
 "cells": [
  {
   "cell_type": "markdown",
   "metadata": {},
   "source": [
    "### Animated map which displays the protests locations in sequence\n",
    "With:\n",
    "- ##### <u> SQLDATE </u>\n",
    "- ##### <u> ActionGeo_Lat </u>\n",
    "- ##### <u> ActionGeo_Long </u>"
   ]
  },
  {
   "cell_type": "code",
   "execution_count": 1,
   "metadata": {},
   "outputs": [],
   "source": [
    "from google.cloud import bigquery\n",
    "import pandas as pd\n",
    "import numpy as np\n",
    "import os\n",
    "from IPython.core.display import display, HTML\n",
    "\n",
    "DATA_PATH = \"data/\"\n",
    "LEAFLET_PATH = 'animated_maps/'\n",
    "WORLD_MAP_PATH = LEAFLET_PATH + 'world_map/'\n",
    "COUNTRY_MAP_PATH = LEAFLET_PATH + 'individual_country_map/'\n",
    "\n",
    "os.environ[\"GOOGLE_APPLICATION_CREDENTIALS\"] = 'C:\\\\Users\\\\antho\\\\Downloads\\\\ADAproj-02b470a29ee4.json'\n",
    "bigquery_client = bigquery.Client()"
   ]
  },
  {
   "cell_type": "code",
   "execution_count": 2,
   "metadata": {},
   "outputs": [
    {
     "data": {
      "text/plain": [
       "SQLDATE                  3767424\n",
       "ActionGeo_Lat            3767424\n",
       "ActionGeo_Long           3767424\n",
       "EventCode                3767424\n",
       "ActionGeo_CountryCode    3767424\n",
       "dtype: int64"
      ]
     },
     "execution_count": 2,
     "metadata": {},
     "output_type": "execute_result"
    }
   ],
   "source": [
    "#Fetching data from GDELT\n",
    "## BIG DATA, 3 000 000 rows\n",
    "\n",
    "if os.path.isfile(DATA_PATH + 'protests_location.csv') :\n",
    "    #If we already saved the data, don't run the query again, just get the data from the file saved previously\n",
    "    protests_df_location = pd.read_csv(DATA_PATH + 'protests_location.csv')\n",
    "else:\n",
    "    #query to get the date and the location of the protest events\n",
    "    #Remark: '14%' filters the protest events because they all start by '14'\n",
    "    query_protests_location = bigquery_client.query(\n",
    "        \"\"\"SELECT SQLDATE, ActionGeo_Lat, ActionGeo_Long, EventCode, ActionGeo_CountryCode FROM `gdelt-bq.gdeltv2.events` \n",
    "        WHERE EventCode LIKE '14%' \"\"\")\n",
    "    protests_df_location = query_protests_location.result().to_dataframe()\n",
    "    # Write down a csv file\n",
    "    protests_df_location.to_csv(DATA_PATH + 'protests_location.csv', index=False)\n",
    "protests_df_location = protests_df_location.dropna()\n",
    "protests_df_location.count()"
   ]
  },
  {
   "cell_type": "markdown",
   "metadata": {},
   "source": [
    "## Animated world map"
   ]
  },
  {
   "cell_type": "code",
   "execution_count": 3,
   "metadata": {},
   "outputs": [],
   "source": [
    "#Extracting ActionGeo_Lat and ActionGeo_Long\n",
    "protests_without_duplicated_values = protests_df_location\n",
    "#protests_without_duplicated_values['ActionGeo_Lat'] = protests_df_location['ActionGeo_Lat']\n",
    "#protests_without_duplicated_values['ActionGeo_Long'] = protests_df_location['ActionGeo_Long']\n",
    "\n",
    "#Removing duplicated values \n",
    "#The values are not really duplicated, they took place on different day\n",
    "#Plus, the localization of national protest is in the center of the country \n",
    "#We thus have a duplicated localizations when we have several national protests in the same country\n",
    "protests_without_duplicated_values=protests_without_duplicated_values.drop_duplicates(subset=['ActionGeo_Long', 'ActionGeo_Lat'], keep=False)\n",
    "protests_without_duplicated_values=protests_without_duplicated_values.sort_values('SQLDATE')\n",
    "protests_without_duplicated_values=protests_without_duplicated_values[protests_without_duplicated_values['SQLDATE']>=20140000]"
   ]
  },
  {
   "cell_type": "code",
   "execution_count": 4,
   "metadata": {},
   "outputs": [
    {
     "data": {
      "text/plain": [
       "array(['142', '141', '145', '140', '143', '144'], dtype=object)"
      ]
     },
     "execution_count": 4,
     "metadata": {},
     "output_type": "execute_result"
    }
   ],
   "source": [
    "protests_without_duplicated_values['EventCode']= protests_without_duplicated_values['EventCode'].astype(str)\n",
    "protests_without_duplicated_values['EventCode']= protests_without_duplicated_values['EventCode'].str[0:3]\n",
    "protests_without_duplicated_values['EventCode'].unique()"
   ]
  },
  {
   "cell_type": "code",
   "execution_count": 5,
   "metadata": {},
   "outputs": [],
   "source": [
    "protests_df_for_js = pd.DataFrame()\n",
    "protests_df_for_js[\"coord_for_js\"] = '[' + protests_without_duplicated_values['ActionGeo_Lat'].astype(str) + ',' + protests_without_duplicated_values['ActionGeo_Long'].astype(str) + '],'\n",
    "protests_df_for_js[\"dates\"] = protests_without_duplicated_values['SQLDATE'].astype(str)\n",
    "protests_df_for_js[\"dates\"] = '[' + protests_df_for_js['dates'].str[0:4] + protests_df_for_js['dates'].str[4:6] + protests_df_for_js['dates'].str[6:8] + '],'\n",
    "protests_df_for_js[\"event_code\"] = protests_without_duplicated_values['EventCode'].astype(str)\n",
    "protests_df_for_js[\"event_code\"] = '[' + protests_df_for_js['event_code'] + '],'"
   ]
  },
  {
   "cell_type": "code",
   "execution_count": 6,
   "metadata": {
    "scrolled": true
   },
   "outputs": [],
   "source": [
    "markers_number = 4\n",
    "markers_speed = 4000000 / markers_number\n",
    "\n",
    "protests_coordinates=\"\"\n",
    "protests_types=\"\"\n",
    "protests_dates=\"\"\n",
    "marker_declaration=\"\"\n",
    "string_addstation=\"\"\n",
    "\n",
    "for marker_idx in range(1,markers_number+1):\n",
    "    protests_coordinates = protests_coordinates + \"\\n var protests_coordinates\" + str(marker_idx) + \" = [\"\n",
    "    protests_dates = protests_dates + \"\\n var protests_dates\" + str(marker_idx) + \" = [\"\n",
    "    protests_types = protests_types + \"\\n var protests_types\" + str(marker_idx) + \" = [\"\n",
    "    addstation_idx = 0\n",
    "    i = 0\n",
    "    for idx in range(marker_idx,len(protests_df_for_js),markers_number):\n",
    "        i=i+1\n",
    "        protests_coordinates = protests_coordinates + protests_df_for_js[\"coord_for_js\"].iloc[idx]\n",
    "        protests_dates = protests_dates + protests_df_for_js[\"dates\"].iloc[idx]\n",
    "        protests_types = protests_types + protests_df_for_js[\"event_code\"].iloc[idx]\n",
    "        if addstation_idx == 0 :\n",
    "                addstation_idx = 1\n",
    "                string_addstation = string_addstation + \"\\n\"\n",
    "        string_addstation = string_addstation + \"marker\" + str(marker_idx) + \".addStation(\" + str(i) + \", 500);\"\n",
    "    \n",
    "    #protests_df_for_js=protests_df_for_js.iloc[number_of_protests_per_loop:]\n",
    "    protests_coordinates = protests_coordinates[:-1]\n",
    "    protests_coordinates = protests_coordinates + \"]\"\n",
    "    protests_dates = protests_dates[:-1]\n",
    "    protests_dates = protests_dates + \"]\"  \n",
    "    protests_types = protests_types[:-1]\n",
    "    protests_types = protests_types + \"]\"        \n",
    "\n",
    "    marker_declaration = marker_declaration + \"\\n var marker\" + str(marker_idx) + \" = L.Marker.movingMarker(protests_coordinates\" + str(marker_idx) + \",protests_dates1,protests_types\" + str(marker_idx) +\",\" + str(markers_speed) + \", {autostart: true}).addTo(map);\"\n"
   ]
  },
  {
   "cell_type": "code",
   "execution_count": 7,
   "metadata": {},
   "outputs": [],
   "source": [
    "readFile = open(WORLD_MAP_PATH + \"script_origin.js\")\n",
    "\n",
    "lines = readFile.readlines()\n",
    "lines = lines[:-1]\n",
    "readFile.close()\n",
    "\n",
    "lines.append(protests_coordinates+'\\n')\n",
    "lines.append(protests_dates+'\\n')\n",
    "lines.append(protests_types+'\\n')\n",
    "lines.append(marker_declaration+'\\n')\n",
    "lines.append(string_addstation+'\\n')"
   ]
  },
  {
   "cell_type": "code",
   "execution_count": 8,
   "metadata": {},
   "outputs": [],
   "source": [
    "w = open(WORLD_MAP_PATH + \"script.js\",'w')\n",
    "\n",
    "w.writelines([item for item in lines])\n",
    "\n",
    "w.close()"
   ]
  },
  {
   "cell_type": "code",
   "execution_count": 9,
   "metadata": {},
   "outputs": [
    {
     "data": {
      "text/html": [
       "<h1><a href='animated_maps/index.html' target='_blank'>Animated map that displays protests day by day (Ctrl+Click)</a></h1>"
      ],
      "text/plain": [
       "<IPython.core.display.HTML object>"
      ]
     },
     "metadata": {},
     "output_type": "display_data"
    }
   ],
   "source": [
    "display(HTML(\"<h1><a href='\"+LEAFLET_PATH+\"index.html' target='_blank'>Animated map that displays protests day by day (Ctrl+Click)</a></h1>\"))"
   ]
  },
  {
   "cell_type": "markdown",
   "metadata": {},
   "source": [
    "## Animated map per country"
   ]
  },
  {
   "cell_type": "code",
   "execution_count": 169,
   "metadata": {},
   "outputs": [
    {
     "data": {
      "text/plain": [
       "array(['KZ', 'MJ', 'KE', 'BO', 'AL', 'DR', 'PE', 'PP', 'TH', 'MZ', 'UY',\n",
       "       'GT', 'RB', 'DA', 'TZ', 'PM', 'KN', 'PO', 'CI', 'AM', 'MY', 'CU',\n",
       "       'CO', 'ET', 'BU', 'TX', 'ML', 'CG', 'RI', 'HA', 'MD', 'NZ', 'ZI',\n",
       "       'KG', 'OS', 'PA', 'GG', 'NP', 'HO', 'BM', 'SU', 'TS', 'MO', 'BL',\n",
       "       'AJ', 'IC', 'JO', 'WA', 'MR', 'HR', 'LH', 'LE', 'SZ', 'AO', 'BY',\n",
       "       'SO', 'TW', 'NC', 'VI', 'CT', 'AU', 'GA', 'GH', 'CB', 'EI', 'RQ',\n",
       "       'UV', 'SN', 'TD', 'NO', 'TO', 'MG', 'EZ', 'MV', 'MT', 'HU', 'LG',\n",
       "       'LY', 'BF', 'EC', 'SL', 'ZA', 'CF', 'GV', 'HK', 'CE', 'NL', 'AG',\n",
       "       'EN', 'ER', 'WE', 'NU', 'VM', 'KV', 'SG', 'FI', 'UG', 'MP', 'LO',\n",
       "       'BA', 'BN', 'LI', 'MU', 'GY', 'GP', 'ES', 'MI', 'BK', 'GZ', 'LA',\n",
       "       'UZ', 'MA', 'FJ', 'NG', 'CS', 'CM', 'CY', 'KU', 'QA', 'GK', 'RE',\n",
       "       'AC', 'TI', 'VC', 'BC', 'OD', 'MB', 'AE', 'DO', 'FP', 'GI', 'JM',\n",
       "       'PS', 'SI', 'BH', 'RM', 'BB', 'BP', 'GL', 'JE', 'BD', 'VT', 'RW',\n",
       "       'OC', 'PU', 'AF', 'AR', 'AS', 'BE', 'BG', 'BR', 'CA', 'CH', 'EG',\n",
       "       'FR', 'GM', 'GR', 'ID', 'IN', 'IR', 'IS', 'IT', 'IZ', 'JA', 'KS',\n",
       "       'MK', 'MX', 'NI', 'PK', 'PL', 'RO', 'RP', 'RS', 'SA', 'SF', 'SP',\n",
       "       'SW', 'SY', 'TU', 'UK', 'UP', 'US', 'VE', 'YM', 'IV', 'WI', 'NR',\n",
       "       'DJ', 'MC', 'BX', 'GQ', 'GB', 'LU', 'FM', 'ST', 'CD', 'LT', 'TT',\n",
       "       'NS', 'AY', 'WZ', 'KT', 'AQ', 'KR', 'EK', 'AV', 'CJ', 'GJ', 'CN',\n",
       "       'BT', 'MN', 'WS', 'TN', 'LS', 'IO', 'MF', 'CW', 'NH', 'SE', 'CV',\n",
       "       'FG', 'SC', 'VQ', 'RN', 'TP', 'NF', 'TV', 'AN', 'TK', 'AA', 'PG',\n",
       "       'MH', 'PF', 'FO', 'SM', 'SH', 'SV', 'CQ', 'NT', 'PC', 'FK', 'IM',\n",
       "       'NE', 'LQ', 'TL', 'DQ', 'SB'], dtype=object)"
      ]
     },
     "execution_count": 169,
     "metadata": {},
     "output_type": "execute_result"
    }
   ],
   "source": [
    "protests_df_location.ActionGeo_CountryCode.unique()"
   ]
  },
  {
   "cell_type": "code",
   "execution_count": 220,
   "metadata": {},
   "outputs": [],
   "source": [
    "country_location = pd.read_csv(DATA_PATH + 'country_location_LatLong.csv')"
   ]
  },
  {
   "cell_type": "code",
   "execution_count": 277,
   "metadata": {},
   "outputs": [],
   "source": [
    "country_wanted = \"FI\"\n",
    "s = pd.Series(country_location['ISO2'])\n",
    "if country_wanted in s.unique():\n",
    "    latlong = country_location[country_location['ISO2'] == country_wanted]['LatLong']\n",
    "    latlong = latlong.iloc[0]\n",
    "else: \n",
    "    print(\"Country wanted doesn't exist\")\n",
    "date_start = 20160101\n",
    "date_end = 20160303"
   ]
  },
  {
   "cell_type": "code",
   "execution_count": 278,
   "metadata": {},
   "outputs": [],
   "source": [
    "protests_wanted = protests_df_location[protests_df_location.ActionGeo_CountryCode == country_wanted]\n",
    "protests_wanted = protests_wanted[protests_wanted.SQLDATE > date_start]\n",
    "protests_wanted = protests_wanted[protests_wanted.SQLDATE < date_end]\n",
    "protests_wanted=protests_wanted.sort_values('SQLDATE')"
   ]
  },
  {
   "cell_type": "code",
   "execution_count": 279,
   "metadata": {},
   "outputs": [
    {
     "data": {
      "text/plain": [
       "array(['FR'], dtype=object)"
      ]
     },
     "execution_count": 279,
     "metadata": {},
     "output_type": "execute_result"
    }
   ],
   "source": [
    "protests_wanted.ActionGeo_CountryCode.unique()"
   ]
  },
  {
   "cell_type": "code",
   "execution_count": 280,
   "metadata": {},
   "outputs": [
    {
     "data": {
      "text/plain": [
       "SQLDATE                  3892\n",
       "ActionGeo_Lat            3892\n",
       "ActionGeo_Long           3892\n",
       "EventCode                3892\n",
       "ActionGeo_CountryCode    3892\n",
       "dtype: int64"
      ]
     },
     "execution_count": 280,
     "metadata": {},
     "output_type": "execute_result"
    }
   ],
   "source": [
    "protests_wanted.count()"
   ]
  },
  {
   "cell_type": "code",
   "execution_count": 281,
   "metadata": {},
   "outputs": [],
   "source": [
    "for col in protests_wanted:\n",
    "    protests_wanted[col] = protests_wanted[col].astype(str)"
   ]
  },
  {
   "cell_type": "code",
   "execution_count": 282,
   "metadata": {},
   "outputs": [],
   "source": [
    "protests_wanted_for_js = pd.DataFrame()\n",
    "protests_wanted_for_js[\"coord_for_js\"] = '[' + protests_wanted['ActionGeo_Lat'] + ',' + protests_wanted['ActionGeo_Long'] + '],'\n",
    "protests_wanted_for_js[\"dates\"] = protests_wanted['SQLDATE']\n",
    "protests_wanted_for_js[\"dates\"] = '[' + protests_wanted_for_js['dates'].str[0:4] + protests_wanted_for_js['dates'].str[4:6] + protests_wanted_for_js['dates'].str[6:8] + '],'\n",
    "protests_wanted_for_js[\"event_code\"] = protests_wanted['EventCode']\n",
    "protests_wanted_for_js[\"event_code\"] = '[' + protests_wanted_for_js['event_code'] + '],'"
   ]
  },
  {
   "cell_type": "code",
   "execution_count": 283,
   "metadata": {},
   "outputs": [],
   "source": [
    "protests_wanted_for_js['count'] = 0"
   ]
  },
  {
   "cell_type": "code",
   "execution_count": 284,
   "metadata": {},
   "outputs": [],
   "source": [
    "List = []\n",
    "count = []\n",
    "index = 0\n",
    "for value in protests_wanted_for_js['coord_for_js']:\n",
    "    if value in List:\n",
    "        idx = List.index(value)\n",
    "        count[idx] = count[idx] + 1\n",
    "        protests_wanted_for_js.iloc[index, protests_wanted_for_js.columns.get_loc('count')] = count[idx]\n",
    "    else:        \n",
    "        List.append(value)\n",
    "        count.append(1)        \n",
    "        protests_wanted_for_js.iloc[index, protests_wanted_for_js.columns.get_loc('count')] = 1\n",
    "    index = index + 1"
   ]
  },
  {
   "cell_type": "code",
   "execution_count": 285,
   "metadata": {},
   "outputs": [
    {
     "data": {
      "text/html": [
       "<div>\n",
       "<style scoped>\n",
       "    .dataframe tbody tr th:only-of-type {\n",
       "        vertical-align: middle;\n",
       "    }\n",
       "\n",
       "    .dataframe tbody tr th {\n",
       "        vertical-align: top;\n",
       "    }\n",
       "\n",
       "    .dataframe thead th {\n",
       "        text-align: right;\n",
       "    }\n",
       "</style>\n",
       "<table border=\"1\" class=\"dataframe\">\n",
       "  <thead>\n",
       "    <tr style=\"text-align: right;\">\n",
       "      <th></th>\n",
       "      <th>coord_for_js</th>\n",
       "      <th>dates</th>\n",
       "      <th>event_code</th>\n",
       "      <th>count</th>\n",
       "    </tr>\n",
       "  </thead>\n",
       "  <tbody>\n",
       "    <tr>\n",
       "      <th>1310041</th>\n",
       "      <td>[46.0,2.0],</td>\n",
       "      <td>[20160102],</td>\n",
       "      <td>[141],</td>\n",
       "      <td>[1],</td>\n",
       "    </tr>\n",
       "    <tr>\n",
       "      <th>3419829</th>\n",
       "      <td>[48.8667,2.33333],</td>\n",
       "      <td>[20160102],</td>\n",
       "      <td>[143],</td>\n",
       "      <td>[1],</td>\n",
       "    </tr>\n",
       "    <tr>\n",
       "      <th>1296755</th>\n",
       "      <td>[46.0,2.0],</td>\n",
       "      <td>[20160102],</td>\n",
       "      <td>[141],</td>\n",
       "      <td>[2],</td>\n",
       "    </tr>\n",
       "    <tr>\n",
       "      <th>1321001</th>\n",
       "      <td>[48.8667,2.33333],</td>\n",
       "      <td>[20160102],</td>\n",
       "      <td>[141],</td>\n",
       "      <td>[2],</td>\n",
       "    </tr>\n",
       "    <tr>\n",
       "      <th>1310532</th>\n",
       "      <td>[48.8667,2.33333],</td>\n",
       "      <td>[20160102],</td>\n",
       "      <td>[141],</td>\n",
       "      <td>[3],</td>\n",
       "    </tr>\n",
       "    <tr>\n",
       "      <th>3746288</th>\n",
       "      <td>[45.7524,4.19304],</td>\n",
       "      <td>[20160102],</td>\n",
       "      <td>[145],</td>\n",
       "      <td>[1],</td>\n",
       "    </tr>\n",
       "    <tr>\n",
       "      <th>3748417</th>\n",
       "      <td>[48.6403,2.23858],</td>\n",
       "      <td>[20160102],</td>\n",
       "      <td>[145],</td>\n",
       "      <td>[1],</td>\n",
       "    </tr>\n",
       "    <tr>\n",
       "      <th>3418066</th>\n",
       "      <td>[46.0,2.0],</td>\n",
       "      <td>[20160102],</td>\n",
       "      <td>[143],</td>\n",
       "      <td>[3],</td>\n",
       "    </tr>\n",
       "    <tr>\n",
       "      <th>1285026</th>\n",
       "      <td>[48.8667,2.33333],</td>\n",
       "      <td>[20160102],</td>\n",
       "      <td>[141],</td>\n",
       "      <td>[4],</td>\n",
       "    </tr>\n",
       "    <tr>\n",
       "      <th>104395</th>\n",
       "      <td>[46.0,2.0],</td>\n",
       "      <td>[20160102],</td>\n",
       "      <td>[140],</td>\n",
       "      <td>[4],</td>\n",
       "    </tr>\n",
       "    <tr>\n",
       "      <th>1288385</th>\n",
       "      <td>[48.8667,2.33333],</td>\n",
       "      <td>[20160102],</td>\n",
       "      <td>[141],</td>\n",
       "      <td>[5],</td>\n",
       "    </tr>\n",
       "    <tr>\n",
       "      <th>1319665</th>\n",
       "      <td>[46.0,2.0],</td>\n",
       "      <td>[20160102],</td>\n",
       "      <td>[141],</td>\n",
       "      <td>[5],</td>\n",
       "    </tr>\n",
       "    <tr>\n",
       "      <th>1323255</th>\n",
       "      <td>[45.6476,5.86085],</td>\n",
       "      <td>[20160102],</td>\n",
       "      <td>[141],</td>\n",
       "      <td>[1],</td>\n",
       "    </tr>\n",
       "    <tr>\n",
       "      <th>3417200</th>\n",
       "      <td>[45.4368,3.5364199999999997],</td>\n",
       "      <td>[20160102],</td>\n",
       "      <td>[143],</td>\n",
       "      <td>[1],</td>\n",
       "    </tr>\n",
       "    <tr>\n",
       "      <th>1322077</th>\n",
       "      <td>[48.8667,2.33333],</td>\n",
       "      <td>[20160102],</td>\n",
       "      <td>[141],</td>\n",
       "      <td>[6],</td>\n",
       "    </tr>\n",
       "    <tr>\n",
       "      <th>1281570</th>\n",
       "      <td>[43.9308,6.66222],</td>\n",
       "      <td>[20160102],</td>\n",
       "      <td>[141],</td>\n",
       "      <td>[1],</td>\n",
       "    </tr>\n",
       "    <tr>\n",
       "      <th>1308948</th>\n",
       "      <td>[45.6476,5.86085],</td>\n",
       "      <td>[20160102],</td>\n",
       "      <td>[141],</td>\n",
       "      <td>[2],</td>\n",
       "    </tr>\n",
       "    <tr>\n",
       "      <th>1297210</th>\n",
       "      <td>[48.9167,2.38333],</td>\n",
       "      <td>[20160102],</td>\n",
       "      <td>[141],</td>\n",
       "      <td>[1],</td>\n",
       "    </tr>\n",
       "    <tr>\n",
       "      <th>3416960</th>\n",
       "      <td>[46.0,2.0],</td>\n",
       "      <td>[20160102],</td>\n",
       "      <td>[143],</td>\n",
       "      <td>[6],</td>\n",
       "    </tr>\n",
       "    <tr>\n",
       "      <th>1305212</th>\n",
       "      <td>[48.8667,2.33333],</td>\n",
       "      <td>[20160102],</td>\n",
       "      <td>[141],</td>\n",
       "      <td>[7],</td>\n",
       "    </tr>\n",
       "  </tbody>\n",
       "</table>\n",
       "</div>"
      ],
      "text/plain": [
       "                          coord_for_js        dates event_code count\n",
       "1310041                    [46.0,2.0],  [20160102],     [141],  [1],\n",
       "3419829             [48.8667,2.33333],  [20160102],     [143],  [1],\n",
       "1296755                    [46.0,2.0],  [20160102],     [141],  [2],\n",
       "1321001             [48.8667,2.33333],  [20160102],     [141],  [2],\n",
       "1310532             [48.8667,2.33333],  [20160102],     [141],  [3],\n",
       "3746288             [45.7524,4.19304],  [20160102],     [145],  [1],\n",
       "3748417             [48.6403,2.23858],  [20160102],     [145],  [1],\n",
       "3418066                    [46.0,2.0],  [20160102],     [143],  [3],\n",
       "1285026             [48.8667,2.33333],  [20160102],     [141],  [4],\n",
       "104395                     [46.0,2.0],  [20160102],     [140],  [4],\n",
       "1288385             [48.8667,2.33333],  [20160102],     [141],  [5],\n",
       "1319665                    [46.0,2.0],  [20160102],     [141],  [5],\n",
       "1323255             [45.6476,5.86085],  [20160102],     [141],  [1],\n",
       "3417200  [45.4368,3.5364199999999997],  [20160102],     [143],  [1],\n",
       "1322077             [48.8667,2.33333],  [20160102],     [141],  [6],\n",
       "1281570             [43.9308,6.66222],  [20160102],     [141],  [1],\n",
       "1308948             [45.6476,5.86085],  [20160102],     [141],  [2],\n",
       "1297210             [48.9167,2.38333],  [20160102],     [141],  [1],\n",
       "3416960                    [46.0,2.0],  [20160102],     [143],  [6],\n",
       "1305212             [48.8667,2.33333],  [20160102],     [141],  [7],"
      ]
     },
     "execution_count": 285,
     "metadata": {},
     "output_type": "execute_result"
    }
   ],
   "source": [
    "protests_wanted_for_js['count'] = protests_wanted_for_js['count'].astype(str)\n",
    "protests_wanted_for_js[\"count\"] = '[' + protests_wanted_for_js['count'] + '],'\n",
    "protests_wanted_for_js.head(20)"
   ]
  },
  {
   "cell_type": "code",
   "execution_count": 286,
   "metadata": {},
   "outputs": [],
   "source": [
    "markers_number = 4\n",
    "markers_speed = 400 / markers_number\n",
    "\n",
    "protests_coordinates=\"\"\n",
    "protests_types=\"\"\n",
    "protests_dates=\"\"\n",
    "protests_counts=\"\"\n",
    "marker_declaration=\"\"\n",
    "string_addstation=\"\"\n",
    "\n",
    "for marker_idx in range(1,markers_number+1):\n",
    "    protests_coordinates = protests_coordinates + \"\\n var protests_coordinates\" + str(marker_idx) + \" = [\"\n",
    "    protests_dates = protests_dates + \"\\n var protests_dates\" + str(marker_idx) + \" = [\"\n",
    "    protests_counts = protests_counts + \"\\n var protests_counts\" + str(marker_idx) + \" = [\"\n",
    "    protests_types = protests_types + \"\\n var protests_types\" + str(marker_idx) + \" = [\"\n",
    "    addstation_idx = 0\n",
    "    i = 0\n",
    "    for idx in range(marker_idx,len(protests_wanted_for_js),markers_number):\n",
    "        i=i+1\n",
    "        protests_coordinates = protests_coordinates + protests_wanted_for_js[\"coord_for_js\"].iloc[idx]\n",
    "        protests_dates = protests_dates + protests_wanted_for_js[\"dates\"].iloc[idx]\n",
    "        protests_counts = protests_counts + protests_wanted_for_js[\"count\"].iloc[idx]\n",
    "        protests_types = protests_types + protests_wanted_for_js[\"event_code\"].iloc[idx]\n",
    "        if addstation_idx == 0 :\n",
    "                addstation_idx = 1\n",
    "                string_addstation = string_addstation + \"\\n\"\n",
    "        string_addstation = string_addstation + \"marker\" + str(marker_idx) + \".addStation(\" + str(i) + \", 500);\"\n",
    "    \n",
    "    #protests_df_for_js=protests_df_for_js.iloc[number_of_protests_per_loop:]\n",
    "    protests_coordinates = protests_coordinates[:-1]\n",
    "    protests_coordinates = protests_coordinates + \"]\"\n",
    "    protests_dates = protests_dates[:-1]\n",
    "    protests_dates = protests_dates + \"]\" \n",
    "    protests_counts = protests_counts[:-1]\n",
    "    protests_counts = protests_counts + \"]\"  \n",
    "    protests_types = protests_types[:-1]\n",
    "    protests_types = protests_types + \"]\"        \n",
    "\n",
    "    marker_declaration = marker_declaration + \"\\n var marker\" + str(marker_idx) + \" = L.Marker.movingMarker(protests_coordinates\" + str(marker_idx) + \",protests_dates1,protests_types\" + str(marker_idx) +\",protests_counts\"+ str(marker_idx) +\",\" + str(markers_speed) + \", {autostart: true}).addTo(map);\"\n",
    "mapfit = 'var map = new L.Map(\\'map\\', {center:'+latlong+',zoom: 5});map.addLayer(layer);'"
   ]
  },
  {
   "cell_type": "code",
   "execution_count": 287,
   "metadata": {},
   "outputs": [],
   "source": [
    "readFile = open(COUNTRY_MAP_PATH + \"script_origin.js\")\n",
    "\n",
    "lines = readFile.readlines()\n",
    "lines = lines[:-1]\n",
    "readFile.close()\n",
    "\n",
    "lines.append(mapfit+'\\n')\n",
    "lines.append(protests_coordinates+'\\n')\n",
    "lines.append(protests_dates+'\\n')\n",
    "lines.append(protests_counts+'\\n')\n",
    "lines.append(protests_types+'\\n')\n",
    "lines.append(marker_declaration+'\\n')\n",
    "lines.append(string_addstation+'\\n')"
   ]
  },
  {
   "cell_type": "code",
   "execution_count": 288,
   "metadata": {},
   "outputs": [],
   "source": [
    "w = open(COUNTRY_MAP_PATH + \"script.js\",'w')\n",
    "\n",
    "w.writelines([item for item in lines])\n",
    "\n",
    "w.close()"
   ]
  },
  {
   "cell_type": "code",
   "execution_count": 289,
   "metadata": {},
   "outputs": [
    {
     "data": {
      "text/html": [
       "<h1><a href='animated_maps/individual_country_map/index.html' target='_blank'>Animated map that displays protests day by day in FR(Ctrl+Click)</a></h1>"
      ],
      "text/plain": [
       "<IPython.core.display.HTML object>"
      ]
     },
     "metadata": {},
     "output_type": "display_data"
    }
   ],
   "source": [
    "display(HTML(\"<h1><a href='\"+COUNTRY_MAP_PATH+\"index.html' target='_blank'>Animated map that displays protests day by day in \"+ country_wanted + \"(Ctrl+Click)</a></h1>\"))"
   ]
  },
  {
   "cell_type": "code",
   "execution_count": null,
   "metadata": {},
   "outputs": [],
   "source": []
  },
  {
   "cell_type": "code",
   "execution_count": null,
   "metadata": {},
   "outputs": [],
   "source": []
  }
 ],
 "metadata": {
  "kernelspec": {
   "display_name": "Python 3",
   "language": "python",
   "name": "python3"
  },
  "language_info": {
   "codemirror_mode": {
    "name": "ipython",
    "version": 3
   },
   "file_extension": ".py",
   "mimetype": "text/x-python",
   "name": "python",
   "nbconvert_exporter": "python",
   "pygments_lexer": "ipython3",
   "version": "3.6.5"
  }
 },
 "nbformat": 4,
 "nbformat_minor": 2
}
